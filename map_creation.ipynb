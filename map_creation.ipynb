{
 "cells": [
  {
   "cell_type": "markdown",
   "metadata": {},
   "source": [
    "Imports"
   ]
  },
  {
   "cell_type": "code",
   "execution_count": 1,
   "metadata": {},
   "outputs": [],
   "source": [
    "import pandas as pd\n",
    "import matplotlib.pyplot as plt\n",
    "import geopandas as gpd\n",
    "import folium"
   ]
  },
  {
   "cell_type": "markdown",
   "metadata": {},
   "source": [
    "Data loading"
   ]
  },
  {
   "cell_type": "code",
   "execution_count": 2,
   "metadata": {},
   "outputs": [],
   "source": [
    "df = pd.read_csv(\"oferty_pracy_excel.csv\", encoding = \"utf-8\", delimiter=\";\")"
   ]
  },
  {
   "cell_type": "markdown",
   "metadata": {},
   "source": [
    "Some data cleaning: change \"kod\" to \"TERYT\" (not sure if mandatory), changing letters to lower (also not sure)"
   ]
  },
  {
   "cell_type": "code",
   "execution_count": 3,
   "metadata": {},
   "outputs": [
    {
     "data": {
      "text/html": [
       "<div>\n",
       "<style scoped>\n",
       "    .dataframe tbody tr th:only-of-type {\n",
       "        vertical-align: middle;\n",
       "    }\n",
       "\n",
       "    .dataframe tbody tr th {\n",
       "        vertical-align: top;\n",
       "    }\n",
       "\n",
       "    .dataframe thead th {\n",
       "        text-align: right;\n",
       "    }\n",
       "</style>\n",
       "<table border=\"1\" class=\"dataframe\">\n",
       "  <thead>\n",
       "    <tr style=\"text-align: right;\">\n",
       "      <th></th>\n",
       "      <th>TERYT</th>\n",
       "      <th>region</th>\n",
       "      <th>oferty</th>\n",
       "    </tr>\n",
       "  </thead>\n",
       "  <tbody>\n",
       "    <tr>\n",
       "      <th>0</th>\n",
       "      <td>200000</td>\n",
       "      <td>dolnośląskie</td>\n",
       "      <td>10 732</td>\n",
       "    </tr>\n",
       "    <tr>\n",
       "      <th>1</th>\n",
       "      <td>400000</td>\n",
       "      <td>kujawsko-pomorskie</td>\n",
       "      <td>6 570</td>\n",
       "    </tr>\n",
       "    <tr>\n",
       "      <th>2</th>\n",
       "      <td>600000</td>\n",
       "      <td>lubelskie</td>\n",
       "      <td>4 530</td>\n",
       "    </tr>\n",
       "    <tr>\n",
       "      <th>3</th>\n",
       "      <td>800000</td>\n",
       "      <td>lubuskie</td>\n",
       "      <td>4 627</td>\n",
       "    </tr>\n",
       "    <tr>\n",
       "      <th>4</th>\n",
       "      <td>1000000</td>\n",
       "      <td>łódzkie</td>\n",
       "      <td>13 261</td>\n",
       "    </tr>\n",
       "    <tr>\n",
       "      <th>5</th>\n",
       "      <td>1200000</td>\n",
       "      <td>małopolskie</td>\n",
       "      <td>8 529</td>\n",
       "    </tr>\n",
       "    <tr>\n",
       "      <th>6</th>\n",
       "      <td>1400000</td>\n",
       "      <td>mazowieckie</td>\n",
       "      <td>16 427</td>\n",
       "    </tr>\n",
       "    <tr>\n",
       "      <th>7</th>\n",
       "      <td>1600000</td>\n",
       "      <td>opolskie</td>\n",
       "      <td>3 020</td>\n",
       "    </tr>\n",
       "    <tr>\n",
       "      <th>8</th>\n",
       "      <td>1800000</td>\n",
       "      <td>podkarpackie</td>\n",
       "      <td>5 162</td>\n",
       "    </tr>\n",
       "    <tr>\n",
       "      <th>9</th>\n",
       "      <td>2000000</td>\n",
       "      <td>podlaskie</td>\n",
       "      <td>2 351</td>\n",
       "    </tr>\n",
       "    <tr>\n",
       "      <th>10</th>\n",
       "      <td>2200000</td>\n",
       "      <td>pomorskie</td>\n",
       "      <td>8 167</td>\n",
       "    </tr>\n",
       "    <tr>\n",
       "      <th>11</th>\n",
       "      <td>2400000</td>\n",
       "      <td>śląskie</td>\n",
       "      <td>15 613</td>\n",
       "    </tr>\n",
       "    <tr>\n",
       "      <th>12</th>\n",
       "      <td>2600000</td>\n",
       "      <td>świętokrzyskie</td>\n",
       "      <td>2 513</td>\n",
       "    </tr>\n",
       "    <tr>\n",
       "      <th>13</th>\n",
       "      <td>2800000</td>\n",
       "      <td>warmińsko-mazurskie</td>\n",
       "      <td>5 030</td>\n",
       "    </tr>\n",
       "    <tr>\n",
       "      <th>14</th>\n",
       "      <td>3000000</td>\n",
       "      <td>wielkopolskie</td>\n",
       "      <td>9 567</td>\n",
       "    </tr>\n",
       "    <tr>\n",
       "      <th>15</th>\n",
       "      <td>3200000</td>\n",
       "      <td>zachodniopomorskie</td>\n",
       "      <td>8 080</td>\n",
       "    </tr>\n",
       "  </tbody>\n",
       "</table>\n",
       "</div>"
      ],
      "text/plain": [
       "      TERYT               region  oferty\n",
       "0    200000         dolnośląskie  10 732\n",
       "1    400000   kujawsko-pomorskie   6 570\n",
       "2    600000            lubelskie   4 530\n",
       "3    800000             lubuskie   4 627\n",
       "4   1000000              łódzkie  13 261\n",
       "5   1200000          małopolskie   8 529\n",
       "6   1400000          mazowieckie  16 427\n",
       "7   1600000             opolskie   3 020\n",
       "8   1800000         podkarpackie   5 162\n",
       "9   2000000            podlaskie   2 351\n",
       "10  2200000            pomorskie   8 167\n",
       "11  2400000              śląskie  15 613\n",
       "12  2600000       świętokrzyskie   2 513\n",
       "13  2800000  warmińsko-mazurskie   5 030\n",
       "14  3000000        wielkopolskie   9 567\n",
       "15  3200000   zachodniopomorskie   8 080"
      ]
     },
     "execution_count": 3,
     "metadata": {},
     "output_type": "execute_result"
    }
   ],
   "source": [
    "df.rename(columns={\"kod\": \"TERYT\"}, inplace=True)\n",
    "df.region = df.region.str.lower()\n",
    "df"
   ]
  },
  {
   "cell_type": "markdown",
   "metadata": {},
   "source": [
    "Read map file"
   ]
  },
  {
   "cell_type": "code",
   "execution_count": 4,
   "metadata": {},
   "outputs": [],
   "source": [
    "mapa_woj = gpd.read_file(\"Wojewodztwa\\Województwa.shp\")"
   ]
  },
  {
   "cell_type": "code",
   "execution_count": 5,
   "metadata": {},
   "outputs": [
    {
     "data": {
      "text/plain": [
       "Index(['JPT_SJR_KO', 'JPT_KOD_JE', 'JPT_NAZWA_', 'JPT_ORGAN_', 'JPT_JOR_ID',\n",
       "       'WERSJA_OD', 'WERSJA_DO', 'WAZNY_OD', 'WAZNY_DO', 'JPT_KOD__1',\n",
       "       'JPT_NAZWA1', 'JPT_ORGAN1', 'JPT_WAZNA_', 'ID_BUFORA_', 'ID_BUFORA1',\n",
       "       'ID_TECHNIC', 'IIP_PRZEST', 'IIP_IDENTY', 'IIP_WERSJA', 'JPT_KJ_IIP',\n",
       "       'JPT_KJ_I_1', 'JPT_KJ_I_2', 'JPT_OPIS', 'JPT_SPS_KO', 'ID_BUFOR_1',\n",
       "       'JPT_ID', 'JPT_KJ_I_3', 'Shape_Leng', 'Shape_Area', 'geometry'],\n",
       "      dtype='object')"
      ]
     },
     "execution_count": 5,
     "metadata": {},
     "output_type": "execute_result"
    }
   ],
   "source": [
    "mapa_woj.columns"
   ]
  },
  {
   "cell_type": "markdown",
   "metadata": {},
   "source": [
    "Leave only columns which are interesting for us."
   ]
  },
  {
   "cell_type": "code",
   "execution_count": 6,
   "metadata": {},
   "outputs": [],
   "source": [
    "mapa_woj = mapa_woj[['JPT_KOD_JE', 'geometry']] \n"
   ]
  },
  {
   "cell_type": "markdown",
   "metadata": {},
   "source": [
    "What does the JPT_KOD_JE colum (i.e. TERYT code) look like in both dataframes?"
   ]
  },
  {
   "cell_type": "code",
   "execution_count": 7,
   "metadata": {},
   "outputs": [
    {
     "data": {
      "text/plain": [
       "0    24\n",
       "1    16\n",
       "2    26\n",
       "3    22\n",
       "4    20\n",
       "Name: JPT_KOD_JE, dtype: object"
      ]
     },
     "execution_count": 7,
     "metadata": {},
     "output_type": "execute_result"
    }
   ],
   "source": [
    "mapa_woj.JPT_KOD_JE.head()"
   ]
  },
  {
   "cell_type": "code",
   "execution_count": 8,
   "metadata": {},
   "outputs": [
    {
     "data": {
      "text/plain": [
       "0     200000\n",
       "1     400000\n",
       "2     600000\n",
       "3     800000\n",
       "4    1000000\n",
       "Name: TERYT, dtype: int64"
      ]
     },
     "execution_count": 8,
     "metadata": {},
     "output_type": "execute_result"
    }
   ],
   "source": [
    "df.TERYT.head()"
   ]
  },
  {
   "cell_type": "markdown",
   "metadata": {},
   "source": [
    "Well, they differ and we have to unify them."
   ]
  },
  {
   "cell_type": "code",
   "execution_count": 9,
   "metadata": {},
   "outputs": [],
   "source": [
    "df.TERYT = df.TERYT.apply(lambda x: str(x)[:2] if len(str(x))>6 else '0'+str(x)[0])"
   ]
  },
  {
   "cell_type": "markdown",
   "metadata": {},
   "source": [
    "Merge both files."
   ]
  },
  {
   "cell_type": "code",
   "execution_count": 10,
   "metadata": {},
   "outputs": [],
   "source": [
    "df.TERYT = df.TERYT.astype(\"object\")"
   ]
  },
  {
   "cell_type": "code",
   "execution_count": 11,
   "metadata": {},
   "outputs": [
    {
     "data": {
      "text/html": [
       "<div>\n",
       "<style scoped>\n",
       "    .dataframe tbody tr th:only-of-type {\n",
       "        vertical-align: middle;\n",
       "    }\n",
       "\n",
       "    .dataframe tbody tr th {\n",
       "        vertical-align: top;\n",
       "    }\n",
       "\n",
       "    .dataframe thead th {\n",
       "        text-align: right;\n",
       "    }\n",
       "</style>\n",
       "<table border=\"1\" class=\"dataframe\">\n",
       "  <thead>\n",
       "    <tr style=\"text-align: right;\">\n",
       "      <th></th>\n",
       "      <th>TERYT</th>\n",
       "      <th>region</th>\n",
       "      <th>oferty</th>\n",
       "    </tr>\n",
       "  </thead>\n",
       "  <tbody>\n",
       "    <tr>\n",
       "      <th>0</th>\n",
       "      <td>02</td>\n",
       "      <td>dolnośląskie</td>\n",
       "      <td>10 732</td>\n",
       "    </tr>\n",
       "    <tr>\n",
       "      <th>1</th>\n",
       "      <td>04</td>\n",
       "      <td>kujawsko-pomorskie</td>\n",
       "      <td>6 570</td>\n",
       "    </tr>\n",
       "    <tr>\n",
       "      <th>2</th>\n",
       "      <td>06</td>\n",
       "      <td>lubelskie</td>\n",
       "      <td>4 530</td>\n",
       "    </tr>\n",
       "    <tr>\n",
       "      <th>3</th>\n",
       "      <td>08</td>\n",
       "      <td>lubuskie</td>\n",
       "      <td>4 627</td>\n",
       "    </tr>\n",
       "    <tr>\n",
       "      <th>4</th>\n",
       "      <td>10</td>\n",
       "      <td>łódzkie</td>\n",
       "      <td>13 261</td>\n",
       "    </tr>\n",
       "    <tr>\n",
       "      <th>5</th>\n",
       "      <td>12</td>\n",
       "      <td>małopolskie</td>\n",
       "      <td>8 529</td>\n",
       "    </tr>\n",
       "    <tr>\n",
       "      <th>6</th>\n",
       "      <td>14</td>\n",
       "      <td>mazowieckie</td>\n",
       "      <td>16 427</td>\n",
       "    </tr>\n",
       "    <tr>\n",
       "      <th>7</th>\n",
       "      <td>16</td>\n",
       "      <td>opolskie</td>\n",
       "      <td>3 020</td>\n",
       "    </tr>\n",
       "    <tr>\n",
       "      <th>8</th>\n",
       "      <td>18</td>\n",
       "      <td>podkarpackie</td>\n",
       "      <td>5 162</td>\n",
       "    </tr>\n",
       "    <tr>\n",
       "      <th>9</th>\n",
       "      <td>20</td>\n",
       "      <td>podlaskie</td>\n",
       "      <td>2 351</td>\n",
       "    </tr>\n",
       "    <tr>\n",
       "      <th>10</th>\n",
       "      <td>22</td>\n",
       "      <td>pomorskie</td>\n",
       "      <td>8 167</td>\n",
       "    </tr>\n",
       "    <tr>\n",
       "      <th>11</th>\n",
       "      <td>24</td>\n",
       "      <td>śląskie</td>\n",
       "      <td>15 613</td>\n",
       "    </tr>\n",
       "    <tr>\n",
       "      <th>12</th>\n",
       "      <td>26</td>\n",
       "      <td>świętokrzyskie</td>\n",
       "      <td>2 513</td>\n",
       "    </tr>\n",
       "    <tr>\n",
       "      <th>13</th>\n",
       "      <td>28</td>\n",
       "      <td>warmińsko-mazurskie</td>\n",
       "      <td>5 030</td>\n",
       "    </tr>\n",
       "    <tr>\n",
       "      <th>14</th>\n",
       "      <td>30</td>\n",
       "      <td>wielkopolskie</td>\n",
       "      <td>9 567</td>\n",
       "    </tr>\n",
       "    <tr>\n",
       "      <th>15</th>\n",
       "      <td>32</td>\n",
       "      <td>zachodniopomorskie</td>\n",
       "      <td>8 080</td>\n",
       "    </tr>\n",
       "  </tbody>\n",
       "</table>\n",
       "</div>"
      ],
      "text/plain": [
       "   TERYT               region  oferty\n",
       "0     02         dolnośląskie  10 732\n",
       "1     04   kujawsko-pomorskie   6 570\n",
       "2     06            lubelskie   4 530\n",
       "3     08             lubuskie   4 627\n",
       "4     10              łódzkie  13 261\n",
       "5     12          małopolskie   8 529\n",
       "6     14          mazowieckie  16 427\n",
       "7     16             opolskie   3 020\n",
       "8     18         podkarpackie   5 162\n",
       "9     20            podlaskie   2 351\n",
       "10    22            pomorskie   8 167\n",
       "11    24              śląskie  15 613\n",
       "12    26       świętokrzyskie   2 513\n",
       "13    28  warmińsko-mazurskie   5 030\n",
       "14    30        wielkopolskie   9 567\n",
       "15    32   zachodniopomorskie   8 080"
      ]
     },
     "execution_count": 11,
     "metadata": {},
     "output_type": "execute_result"
    }
   ],
   "source": [
    "df"
   ]
  },
  {
   "cell_type": "code",
   "execution_count": 12,
   "metadata": {},
   "outputs": [
    {
     "data": {
      "text/html": [
       "<div>\n",
       "<style scoped>\n",
       "    .dataframe tbody tr th:only-of-type {\n",
       "        vertical-align: middle;\n",
       "    }\n",
       "\n",
       "    .dataframe tbody tr th {\n",
       "        vertical-align: top;\n",
       "    }\n",
       "\n",
       "    .dataframe thead th {\n",
       "        text-align: right;\n",
       "    }\n",
       "</style>\n",
       "<table border=\"1\" class=\"dataframe\">\n",
       "  <thead>\n",
       "    <tr style=\"text-align: right;\">\n",
       "      <th></th>\n",
       "      <th>JPT_KOD_JE</th>\n",
       "      <th>geometry</th>\n",
       "      <th>TERYT</th>\n",
       "      <th>region</th>\n",
       "      <th>oferty</th>\n",
       "    </tr>\n",
       "  </thead>\n",
       "  <tbody>\n",
       "    <tr>\n",
       "      <th>0</th>\n",
       "      <td>24</td>\n",
       "      <td>MULTIPOLYGON (((494179.526 358814.295, 494173....</td>\n",
       "      <td>24</td>\n",
       "      <td>śląskie</td>\n",
       "      <td>15 613</td>\n",
       "    </tr>\n",
       "    <tr>\n",
       "      <th>1</th>\n",
       "      <td>16</td>\n",
       "      <td>POLYGON ((417001.841 369554.248, 417005.901 36...</td>\n",
       "      <td>16</td>\n",
       "      <td>opolskie</td>\n",
       "      <td>3 020</td>\n",
       "    </tr>\n",
       "    <tr>\n",
       "      <th>2</th>\n",
       "      <td>26</td>\n",
       "      <td>POLYGON ((549668.108 320839.847, 549676.668 32...</td>\n",
       "      <td>26</td>\n",
       "      <td>świętokrzyskie</td>\n",
       "      <td>2 513</td>\n",
       "    </tr>\n",
       "    <tr>\n",
       "      <th>3</th>\n",
       "      <td>22</td>\n",
       "      <td>POLYGON ((414159.332 769636.478, 414269.395 76...</td>\n",
       "      <td>22</td>\n",
       "      <td>pomorskie</td>\n",
       "      <td>8 167</td>\n",
       "    </tr>\n",
       "    <tr>\n",
       "      <th>4</th>\n",
       "      <td>20</td>\n",
       "      <td>POLYGON ((700075.252 572284.982, 700055.491 57...</td>\n",
       "      <td>20</td>\n",
       "      <td>podlaskie</td>\n",
       "      <td>2 351</td>\n",
       "    </tr>\n",
       "    <tr>\n",
       "      <th>5</th>\n",
       "      <td>32</td>\n",
       "      <td>POLYGON ((225874.333 694332.554, 231446.660 69...</td>\n",
       "      <td>32</td>\n",
       "      <td>zachodniopomorskie</td>\n",
       "      <td>8 080</td>\n",
       "    </tr>\n",
       "    <tr>\n",
       "      <th>6</th>\n",
       "      <td>02</td>\n",
       "      <td>POLYGON ((229358.510 402830.704, 229362.963 40...</td>\n",
       "      <td>02</td>\n",
       "      <td>dolnośląskie</td>\n",
       "      <td>10 732</td>\n",
       "    </tr>\n",
       "    <tr>\n",
       "      <th>7</th>\n",
       "      <td>30</td>\n",
       "      <td>POLYGON ((347736.460 606210.458, 347736.779 60...</td>\n",
       "      <td>30</td>\n",
       "      <td>wielkopolskie</td>\n",
       "      <td>9 567</td>\n",
       "    </tr>\n",
       "    <tr>\n",
       "      <th>8</th>\n",
       "      <td>18</td>\n",
       "      <td>POLYGON ((713790.986 331036.437, 713798.945 33...</td>\n",
       "      <td>18</td>\n",
       "      <td>podkarpackie</td>\n",
       "      <td>5 162</td>\n",
       "    </tr>\n",
       "    <tr>\n",
       "      <th>9</th>\n",
       "      <td>12</td>\n",
       "      <td>POLYGON ((568911.289 294804.269, 568909.081 29...</td>\n",
       "      <td>12</td>\n",
       "      <td>małopolskie</td>\n",
       "      <td>8 529</td>\n",
       "    </tr>\n",
       "    <tr>\n",
       "      <th>10</th>\n",
       "      <td>28</td>\n",
       "      <td>POLYGON ((666395.390 720617.696, 666399.706 72...</td>\n",
       "      <td>28</td>\n",
       "      <td>warmińsko-mazurskie</td>\n",
       "      <td>5 030</td>\n",
       "    </tr>\n",
       "    <tr>\n",
       "      <th>11</th>\n",
       "      <td>10</td>\n",
       "      <td>POLYGON ((569440.120 369049.127, 569457.747 36...</td>\n",
       "      <td>10</td>\n",
       "      <td>łódzkie</td>\n",
       "      <td>13 261</td>\n",
       "    </tr>\n",
       "    <tr>\n",
       "      <th>12</th>\n",
       "      <td>14</td>\n",
       "      <td>POLYGON ((700396.155 572145.561, 700403.968 57...</td>\n",
       "      <td>14</td>\n",
       "      <td>mazowieckie</td>\n",
       "      <td>16 427</td>\n",
       "    </tr>\n",
       "    <tr>\n",
       "      <th>13</th>\n",
       "      <td>04</td>\n",
       "      <td>POLYGON ((411073.728 634866.912, 411075.110 63...</td>\n",
       "      <td>04</td>\n",
       "      <td>kujawsko-pomorskie</td>\n",
       "      <td>6 570</td>\n",
       "    </tr>\n",
       "    <tr>\n",
       "      <th>14</th>\n",
       "      <td>06</td>\n",
       "      <td>POLYGON ((681015.792 420027.270, 681441.239 42...</td>\n",
       "      <td>06</td>\n",
       "      <td>lubelskie</td>\n",
       "      <td>4 530</td>\n",
       "    </tr>\n",
       "    <tr>\n",
       "      <th>15</th>\n",
       "      <td>08</td>\n",
       "      <td>POLYGON ((229358.510 402830.704, 229349.109 40...</td>\n",
       "      <td>08</td>\n",
       "      <td>lubuskie</td>\n",
       "      <td>4 627</td>\n",
       "    </tr>\n",
       "  </tbody>\n",
       "</table>\n",
       "</div>"
      ],
      "text/plain": [
       "   JPT_KOD_JE                                           geometry TERYT  \\\n",
       "0          24  MULTIPOLYGON (((494179.526 358814.295, 494173....    24   \n",
       "1          16  POLYGON ((417001.841 369554.248, 417005.901 36...    16   \n",
       "2          26  POLYGON ((549668.108 320839.847, 549676.668 32...    26   \n",
       "3          22  POLYGON ((414159.332 769636.478, 414269.395 76...    22   \n",
       "4          20  POLYGON ((700075.252 572284.982, 700055.491 57...    20   \n",
       "5          32  POLYGON ((225874.333 694332.554, 231446.660 69...    32   \n",
       "6          02  POLYGON ((229358.510 402830.704, 229362.963 40...    02   \n",
       "7          30  POLYGON ((347736.460 606210.458, 347736.779 60...    30   \n",
       "8          18  POLYGON ((713790.986 331036.437, 713798.945 33...    18   \n",
       "9          12  POLYGON ((568911.289 294804.269, 568909.081 29...    12   \n",
       "10         28  POLYGON ((666395.390 720617.696, 666399.706 72...    28   \n",
       "11         10  POLYGON ((569440.120 369049.127, 569457.747 36...    10   \n",
       "12         14  POLYGON ((700396.155 572145.561, 700403.968 57...    14   \n",
       "13         04  POLYGON ((411073.728 634866.912, 411075.110 63...    04   \n",
       "14         06  POLYGON ((681015.792 420027.270, 681441.239 42...    06   \n",
       "15         08  POLYGON ((229358.510 402830.704, 229349.109 40...    08   \n",
       "\n",
       "                 region  oferty  \n",
       "0               śląskie  15 613  \n",
       "1              opolskie   3 020  \n",
       "2        świętokrzyskie   2 513  \n",
       "3             pomorskie   8 167  \n",
       "4             podlaskie   2 351  \n",
       "5    zachodniopomorskie   8 080  \n",
       "6          dolnośląskie  10 732  \n",
       "7         wielkopolskie   9 567  \n",
       "8          podkarpackie   5 162  \n",
       "9           małopolskie   8 529  \n",
       "10  warmińsko-mazurskie   5 030  \n",
       "11              łódzkie  13 261  \n",
       "12          mazowieckie  16 427  \n",
       "13   kujawsko-pomorskie   6 570  \n",
       "14            lubelskie   4 530  \n",
       "15             lubuskie   4 627  "
      ]
     },
     "execution_count": 12,
     "metadata": {},
     "output_type": "execute_result"
    }
   ],
   "source": [
    "df_mapa = pd.merge(mapa_woj, df, how=\"left\", left_on=\"JPT_KOD_JE\", right_on=\"TERYT\")\n",
    "df_mapa"
   ]
  },
  {
   "cell_type": "code",
   "execution_count": 13,
   "metadata": {},
   "outputs": [],
   "source": [
    "df_mapa['oferty'] = df_mapa.dropna()['oferty'].str.replace(\" \", \"\").astype(\"int64\")"
   ]
  },
  {
   "cell_type": "code",
   "execution_count": 14,
   "metadata": {},
   "outputs": [
    {
     "data": {
      "text/plain": [
       "2351"
      ]
     },
     "execution_count": 14,
     "metadata": {},
     "output_type": "execute_result"
    }
   ],
   "source": [
    "min(df_mapa['oferty'])"
   ]
  },
  {
   "cell_type": "code",
   "execution_count": 15,
   "metadata": {},
   "outputs": [
    {
     "data": {
      "image/png": "[encoded data removed]",
      "text/plain": [
       "<Figure size 576x576 with 2 Axes>"
      ]
     },
     "metadata": {
      "needs_background": "light"
     },
     "output_type": "display_data"
    }
   ],
   "source": [
    "# Add coords for annotation\n",
    "df_mapa.dropna(inplace=True)\n",
    "df_mapa['coords'] = df_mapa['geometry'].apply(lambda x: x.representative_point().coords[:])\n",
    "df_mapa['coords'] = [coord[0] for coord in df_mapa['coords']]\n",
    "\n",
    "# Create figure and axes\n",
    "fig, ax = plt.subplots(1, figsize=(8,8))\n",
    "\n",
    "# Draw map\n",
    "df_mapa.plot(column='oferty', ax=ax, cmap='RdYlBu', linewidth=0.8, \n",
    "             edgecolor='gray', legend = True)\n",
    "\n",
    "# Turn axes off\n",
    "ax.axis('off')\n",
    "\n",
    "# Annotate\n",
    "\n",
    "for idx, row in df_mapa.iterrows():\n",
    "    if row[\"oferty\"] > 0.9 * max(df_mapa[\"oferty\"]) or row[\"oferty\"] < 2* min(df_mapa[\"oferty\"]):\n",
    "        annot_color = \"white\"\n",
    "    else:\n",
    "        annot_color = \"black\"\n",
    "    text = f\"{row['region']}\\n{round(row['oferty'])}\"\n",
    "    plt.annotate(text=text, xy=(row.geometry.centroid.x, row.geometry.centroid.y), \n",
    "                 horizontalalignment='center', size=8, color=annot_color)\n"
   ]
  },
  {
   "cell_type": "code",
   "execution_count": 16,
   "metadata": {},
   "outputs": [
    {
     "data": {
      "text/plain": [
       "JPT_KOD_JE      object\n",
       "geometry      geometry\n",
       "TERYT           object\n",
       "region          object\n",
       "oferty           int64\n",
       "coords          object\n",
       "dtype: object"
      ]
     },
     "execution_count": 16,
     "metadata": {},
     "output_type": "execute_result"
    }
   ],
   "source": [
    "df_mapa.dtypes"
   ]
  },
  {
   "cell_type": "code",
   "execution_count": 17,
   "metadata": {},
   "outputs": [],
   "source": [
    "df_mapa['centroids'] = df_mapa.geometry.centroid"
   ]
  },
  {
   "cell_type": "code",
   "execution_count": 18,
   "metadata": {},
   "outputs": [
    {
     "data": {
      "text/plain": [
       "0     POINT (499481.113 273446.549)\n",
       "1     POINT (422175.325 309357.720)\n",
       "2     POINT (624746.836 323304.070)\n",
       "3     POINT (433921.270 699374.248)\n",
       "4     POINT (761999.593 606650.468)\n",
       "5     POINT (270759.933 640928.754)\n",
       "6     POINT (318758.917 361174.835)\n",
       "7     POINT (380773.292 497126.449)\n",
       "8     POINT (727321.099 236412.613)\n",
       "9     POINT (591302.832 222007.935)\n",
       "10    POINT (619853.947 667542.455)\n",
       "11    POINT (528825.079 415319.262)\n",
       "12    POINT (643022.161 499325.588)\n",
       "13    POINT (465842.300 578593.471)\n",
       "14    POINT (772477.102 379460.892)\n",
       "15    POINT (250102.512 487061.487)\n",
       "Name: centroids, dtype: geometry"
      ]
     },
     "execution_count": 18,
     "metadata": {},
     "output_type": "execute_result"
    }
   ],
   "source": [
    "df_mapa.centroids"
   ]
  }
 ],
 "metadata": {
  "kernelspec": {
   "display_name": "Python 3.9.5 64-bit",
   "language": "python",
   "name": "python3"
  },
  "language_info": {
   "codemirror_mode": {
    "name": "ipython",
    "version": 3
   },
   "file_extension": ".py",
   "mimetype": "text/x-python",
   "name": "python",
   "nbconvert_exporter": "python",
   "pygments_lexer": "ipython3",
   "version": "3.9.5"
  },
  "orig_nbformat": 4,
  "vscode": {
   "interpreter": {
    "hash": "c7bfc4e1e6e4eb0260677cf9624913304c0d10808e8027cbffb76cc52c0a9d58"
   }
  }
 },
 "nbformat": 4,
 "nbformat_minor": 2
}
